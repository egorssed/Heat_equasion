{
 "cells": [
  {
   "cell_type": "code",
   "execution_count": 7,
   "metadata": {},
   "outputs": [],
   "source": [
    "import numpy as np\n",
    "import pandas as pd\n",
    "import matplotlib.pyplot as plt\n",
    "from tqdm import tqdm_notebook\n",
    "from scipy import special"
   ]
  },
  {
   "cell_type": "code",
   "execution_count": 9,
   "metadata": {},
   "outputs": [
    {
     "name": "stdout",
     "output_type": "stream",
     "text": [
      "22500\n"
     ]
    }
   ],
   "source": [
    "currant=0.5\n",
    "Lambda_0 = 0.5\n",
    "Sigma=0.5\n",
    "\n",
    "\n",
    "Length=20\n",
    "Duration=30\n",
    "T_0=1\n",
    "Theta=0.5\n",
    "\n",
    "x_number=100\n",
    "t_number=int((Duration*(T_0**Sigma))*(Lambda_0*Duration*x_number**2)/(Length**2*currant))\n",
    "print(t_number)\n",
    "\n",
    "c=np.sqrt(T_0**Sigma*Lambda_0/Sigma)"
   ]
  },
  {
   "cell_type": "code",
   "execution_count": 10,
   "metadata": {},
   "outputs": [],
   "source": [
    "x_grad=np.linspace(0,Length,x_number)\n",
    "t_grad=np.linspace(0,Duration,t_number)\n",
    "x_step=x_grad[1]-x_grad[0]\n",
    "t_step=t_grad[1]-t_grad[0]\n",
    "\n",
    "Explicit=Implicit=Model=np.zeros((x_number,t_number))\n",
    "\n",
    "Explicit[:,0]=Model[:,0]=Implicit[:,0]=0\n",
    "Explicit[0,:]=Model[0,:]=Implicit[0,:]=T_0*(t_grad[:]**(1/Sigma))\n",
    "Explicit[-1,:]=Model[-1,:]=Implicit[-1,:]=0"
   ]
  },
  {
   "cell_type": "code",
   "execution_count": 52,
   "metadata": {},
   "outputs": [],
   "source": [
    "#derivatives\n",
    "def Lambda(T):\n",
    "    return Lambda_0*T**Sigma\n",
    "def Lambda_Plus(Lambda):\n",
    "    if(Lambda+np.roll(Lambda,-1)<0.1):\n",
    "        return (Lambda+np.roll(Lambda,-1))/2\n",
    "    else:\n",
    "        return 2*(Lambda*np.roll(Lambda,-1))/(Lambda+np.roll(Lambda,-1))\n",
    "def Lambda_Minus(Lambda):\n",
    "    if(Lambda+np.roll(Lambda,+1)<0.1):\n",
    "        return (Lambda+np.roll(Lambda,+1))/2\n",
    "    else:\n",
    "        return 2*(Lambda*np.roll(Lambda,-1))/(Lambda+np.roll(Lambda,-1))\n",
    "\n",
    "    \n",
    "def Lambda_Plus_i(Lambda,Lambda_next):\n",
    "    if(Lambda+Lambda_next<0.1):\n",
    "        return (Lambda+Lambda_next)/2\n",
    "    else:\n",
    "        return 2*(Lambda*Lambda_next)/(Lambda+Lambda_next)\n",
    "def Lambda_Minus_i(Lambda,Lambda_pr):\n",
    "    if(Lambda+Lambda_pr<0.1):\n",
    "        return (Lambda+Lambda_pr)/2\n",
    "    else:\n",
    "        return 2*(Lambda*Lambda_pr)/(Lambda+Lambda_pr)\n",
    "\n",
    "    \n",
    "    \n",
    "def SecondDer(L_p,L_m,T):\n",
    "    return (L_p*(np.roll(T,-1)-T)-L_m*(T-np.roll(T,+1)))/x_step**2"
   ]
  },
  {
   "cell_type": "code",
   "execution_count": null,
   "metadata": {},
   "outputs": [],
   "source": []
  },
  {
   "cell_type": "code",
   "execution_count": 53,
   "metadata": {},
   "outputs": [],
   "source": [
    "#Explicit\n",
    "for t in range(0,t_number-1):\n",
    "    layer_cur=Explicit[:,t]\n",
    "    L=Lambda(layer_cur)\n",
    "    for i in range(0,x_number-1):\n",
    "        L_p[i]=Lambda_Plus_i(L[i],L[i+1])\n",
    "        L_m[i]=Lambda_Minus_i(L[i],L[i-1])\n",
    "    #L_p=Lambda_Plus(L)\n",
    "    #L_m=Lambda_Minus(L)\n",
    "    Explicit[:,t+1]=Explicit[:,t]+t_step*SecondDer(L_p[:],L_m[:],Explicit[:,t])"
   ]
  },
  {
   "cell_type": "code",
   "execution_count": null,
   "metadata": {},
   "outputs": [],
   "source": []
  },
  {
   "cell_type": "code",
   "execution_count": 59,
   "metadata": {},
   "outputs": [],
   "source": [
    "#Implicit coefficietns\n",
    "def calculate(layer,L,t):\n",
    "    alpha=np.linspace(0,Length,x_number)\n",
    "    beta=np.linspace(0,Length,x_number)\n",
    "    beta[1]=T_0*(t**(1/Sigma))\n",
    "    \n",
    "    for i in range(0,x_number-1):\n",
    "        L_p[i]=Lambda_Plus_i(L[i],L[i+1])\n",
    "        L_m[i]=Lambda_Minus_i(L[i],L[i-1])\n",
    "    \n",
    "    a=Theta*t_step*L_m/(x_step**2)\n",
    "    b=Theta*t_step*L_p/(x_step**2)\n",
    "    c=a+b+1\n",
    "    d=layer+(1-Theta)*t_step*SecondDer(L_p,L_m,layer)\n",
    "\n",
    "    for i in range(1,len(layer)-1):\n",
    "        alpha[i+1]=b[i]/(c[i]-a[i]*alpha[i])\n",
    "        beta[i+1]=(a[i]*beta[i]+d[i])/(c[i]-a[i]*alpha[i])\n",
    "    return alpha,beta"
   ]
  },
  {
   "cell_type": "code",
   "execution_count": 60,
   "metadata": {},
   "outputs": [],
   "source": [
    "#Implicit scheme\n",
    "for t in range(0,t_number-1):\n",
    "    layer=Implicit[:,t]\n",
    "    L=Lambda(layer)\n",
    "    alpha,beta=calculate(layer,L,t)\n",
    "    \n",
    "    for i in reversed(range(0,x_number-1)):\n",
    "            Implicit[x][t+1]=alpha[x+1]*Implicit[x+1][t+1]+beta[x+1]"
   ]
  },
  {
   "cell_type": "code",
   "execution_count": 61,
   "metadata": {},
   "outputs": [],
   "source": [
    "#Model\n",
    "for t in range(0,t_number-1):\n",
    "    for x in range(0,x_number-1):\n",
    "        if(x*x_step<=c*t*t_step):\n",
    "            Model[x][t]=(Sigma*c*(c*t*t_step-x*x_step)/Lambda_0)**(1/Sigma)\n",
    "        else:\n",
    "            Model[x][t]=0"
   ]
  },
  {
   "cell_type": "code",
   "execution_count": 62,
   "metadata": {},
   "outputs": [],
   "source": [
    "def perestroyka(q,i):\n",
    "    a=[]\n",
    "    for f in q.tolist():\n",
    "        a.append(f[i])\n",
    "    a=np.array(a)\n",
    "    return a"
   ]
  },
  {
   "cell_type": "code",
   "execution_count": 66,
   "metadata": {},
   "outputs": [
    {
     "data": {
      "image/png": "[encoded data removed]",
      "text/plain": [
       "<Figure size 720x720 with 1 Axes>"
      ]
     },
     "metadata": {
      "needs_background": "light"
     },
     "output_type": "display_data"
    }
   ],
   "source": [
    "#chart\n",
    "time=700\n",
    "\n",
    "plt.figure(figsize=(10,10)) \n",
    "plt.ylabel('f') \n",
    "plt.xlabel('x') \n",
    "plt.plot(x_grad,perestroyka(Explicit,time),c='black') \n",
    "plt.plot(x_grad,perestroyka(Model,time),c='blue')\n",
    "plt.plot(x_grad,perestroyka(Implicit,time),c='red')\n",
    "\n",
    "plt.show()"
   ]
  },
  {
   "cell_type": "code",
   "execution_count": null,
   "metadata": {},
   "outputs": [],
   "source": []
  }
 ],
 "metadata": {
  "kernelspec": {
   "display_name": "Python 3",
   "language": "python",
   "name": "python3"
  },
  "language_info": {
   "codemirror_mode": {
    "name": "ipython",
    "version": 3
   },
   "file_extension": ".py",
   "mimetype": "text/x-python",
   "name": "python",
   "nbconvert_exporter": "python",
   "pygments_lexer": "ipython3",
   "version": "3.7.3"
  }
 },
 "nbformat": 4,
 "nbformat_minor": 2
}
