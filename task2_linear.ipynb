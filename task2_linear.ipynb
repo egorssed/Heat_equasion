{
 "cells": [
  {
   "cell_type": "code",
   "execution_count": 92,
   "metadata": {},
   "outputs": [],
   "source": [
    "import numpy as np\n",
    "import pandas as pd\n",
    "import matplotlib.pyplot as plt\n",
    "from tqdm import tqdm_notebook\n",
    "from scipy import special"
   ]
  },
  {
   "cell_type": "code",
   "execution_count": 116,
   "metadata": {},
   "outputs": [
    {
     "name": "stdout",
     "output_type": "stream",
     "text": [
      "750\n"
     ]
    }
   ],
   "source": [
    "currant=0.5\n",
    "Lambda = 0.5\n",
    "\n",
    "\n",
    "Length=20\n",
    "Duration=30\n",
    "Start_value=1\n",
    "Theta=0.5\n",
    "\n",
    "x_number=100\n",
    "t_number=int((Lambda*Duration*x_number**2)/(Length**2*currant))\n",
    "print(t_number)"
   ]
  },
  {
   "cell_type": "code",
   "execution_count": 94,
   "metadata": {},
   "outputs": [],
   "source": [
    "x_grad=np.linspace(0,Length,x_number)\n",
    "t_grad=np.linspace(0,Duration,t_number)\n",
    "x_step=x_grad[1]-x_grad[0]\n",
    "t_step=t_grad[1]-t_grad[0]\n",
    "\n",
    "Explicit=Implicit=Model=np.zeros((x_number,t_number))\n",
    "\n",
    "Explicit[:,0]=Model[:,0]=Implicit[:,0]=0\n",
    "Explicit[0,:]=Model[0,:]=Implicit[0,:]=Start_value\n",
    "Explicit[-1,:]=Model[-1,:]=Implicit[-1,:]=0"
   ]
  },
  {
   "cell_type": "code",
   "execution_count": 95,
   "metadata": {},
   "outputs": [],
   "source": [
    "#Explicit\n",
    "for t in range(0,t_number-1):\n",
    "    for x in range(1,x_number-1):\n",
    "        #print(Z[x][t]-Currant*(Z[x][t]-Z[x-1][t]))\n",
    "        Explicit[x][t+1]=Explicit[x][t]+currant*(Explicit[x+1][t]-2*Explicit[x][t]+Explicit[x-1][t])"
   ]
  },
  {
   "cell_type": "code",
   "execution_count": 117,
   "metadata": {},
   "outputs": [],
   "source": [
    "#implicit initialization\n",
    "alpha=np.linspace(0,Length,x_number)\n",
    "beta=np.linspace(0,Length,x_number)\n",
    "\n",
    "alpha[:]=beta[:]=0\n",
    "alpha[1]=0\n",
    "beta[1]=Start_value\n",
    "    \n",
    "a=b=Theta*currant\n",
    "c=1+2*a"
   ]
  },
  {
   "cell_type": "code",
   "execution_count": 118,
   "metadata": {},
   "outputs": [],
   "source": [
    "#Implicit coefficietns\n",
    "def calculate(line):\n",
    "    d=(1-2*currant*(1-Theta))*line+currant*(1-Theta)*(np.roll(line,1)+np.roll(line,-1))\n",
    "\n",
    "    for i in range(1,len(line)-1):\n",
    "        alpha[i+1]=b/(c-a*alpha[i])\n",
    "        beta[i+1]=(a*beta[i]+d[i])/(c-a*alpha[i])\n",
    "    return alpha,beta"
   ]
  },
  {
   "cell_type": "code",
   "execution_count": 119,
   "metadata": {},
   "outputs": [],
   "source": [
    "#Implicit scheme\n",
    "for t in range(0,t_number-1):\n",
    "    line=Implicit[:,t]\n",
    "    alpha,beta=calculate(line)\n",
    "    \n",
    "    for i in reversed(range(0,x_number-1)):\n",
    "            Implicit[x][t+1]=alpha[x+1]*Implicit[x+1][t+1]+beta[x+1]"
   ]
  },
  {
   "cell_type": "code",
   "execution_count": 99,
   "metadata": {},
   "outputs": [],
   "source": [
    "#Model\n",
    "for t in range(0,t_number-1):\n",
    "    for x in range(0,x_number-1):\n",
    "        #print(Z[x][t]-Currant*(Z[x][t]-Z[x-1][t]))\n",
    "        Model[x][t+1]=Start_value*(1-special.erf(x/(2*np.sqrt(Lambda*(t+1)))))"
   ]
  },
  {
   "cell_type": "code",
   "execution_count": 100,
   "metadata": {},
   "outputs": [],
   "source": [
    "def perestroyka(q,i):\n",
    "    a=[]\n",
    "    for f in q.tolist():\n",
    "        a.append(f[i])\n",
    "    a=np.array(a)\n",
    "    return a"
   ]
  },
  {
   "cell_type": "code",
   "execution_count": 120,
   "metadata": {},
   "outputs": [
    {
     "data": {
      "image/png": "[encoded data removed]",
      "text/plain": [
       "<Figure size 720x720 with 1 Axes>"
      ]
     },
     "metadata": {
      "needs_background": "light"
     },
     "output_type": "display_data"
    }
   ],
   "source": [
    "#chart\n",
    "time=700\n",
    "\n",
    "plt.figure(figsize=(10,10)) \n",
    "plt.ylabel('f') \n",
    "plt.xlabel('x') \n",
    "plt.plot(x_grad,perestroyka(Explicit,time),c='black') \n",
    "plt.plot(x_grad,perestroyka(Model,time),c='blue')\n",
    "plt.plot(x_grad,perestroyka(Implicit,time),c='red')\n",
    "\n",
    "plt.show()"
   ]
  },
  {
   "cell_type": "code",
   "execution_count": null,
   "metadata": {},
   "outputs": [],
   "source": []
  }
 ],
 "metadata": {
  "kernelspec": {
   "display_name": "Python 3",
   "language": "python",
   "name": "python3"
  },
  "language_info": {
   "codemirror_mode": {
    "name": "ipython",
    "version": 3
   },
   "file_extension": ".py",
   "mimetype": "text/x-python",
   "name": "python",
   "nbconvert_exporter": "python",
   "pygments_lexer": "ipython3",
   "version": "3.7.3"
  }
 },
 "nbformat": 4,
 "nbformat_minor": 2
}
